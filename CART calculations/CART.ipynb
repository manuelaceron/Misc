{
  "nbformat": 4,
  "nbformat_minor": 0,
  "metadata": {
    "colab": {
      "name": "Untitled13.ipynb",
      "provenance": [],
      "collapsed_sections": []
    },
    "kernelspec": {
      "name": "python3",
      "display_name": "Python 3"
    },
    "language_info": {
      "name": "python"
    }
  },
  "cells": [
    {
      "cell_type": "code",
      "execution_count": 1,
      "metadata": {
        "id": "SFtY5m9WyC_h"
      },
      "outputs": [],
      "source": [
        "import csv"
      ]
    },
    {
      "cell_type": "code",
      "source": [
        "# Read csv file\n",
        "file = open(\"/content/Assignment_4_Performance_Measurements.csv\")\n",
        "csvreader = csv.reader(file)\n",
        "header = next(csvreader)\n",
        "#print(header)\n",
        "\n",
        "rows = []\n",
        "for row in csvreader:\n",
        "    rows.append(row)\n",
        "file.close()"
      ],
      "metadata": {
        "id": "wEsXnpULyGqf"
      },
      "execution_count": 2,
      "outputs": []
    },
    {
      "cell_type": "code",
      "source": [
        "configuration = []\n",
        "for num in rows:\n",
        "  sub =[]\n",
        "  for x in num:\n",
        "    sub.append(int(x))\n",
        "  configuration.append(sub)\n",
        "print(configuration)"
      ],
      "metadata": {
        "colab": {
          "base_uri": "https://localhost:8080/"
        },
        "id": "CqzO0xHZ0Xvj",
        "outputId": "28c323a9-cbd5-4f8c-f63c-7759790d3dec"
      },
      "execution_count": 3,
      "outputs": [
        {
          "output_type": "stream",
          "name": "stdout",
          "text": [
            "[[0, 1, 0, 0, 0, 1, 1, 0, 0, 0, 0, 0, 0, 750], [1, 1, 0, 0, 0, 1, 1, 0, 0, 0, 1, 1, 0, 773], [2, 1, 0, 0, 0, 1, 1, 0, 0, 0, 1, 0, 1, 770], [3, 1, 0, 0, 0, 1, 1, 0, 0, 1, 0, 0, 0, 750], [4, 1, 0, 0, 0, 1, 1, 0, 0, 1, 1, 1, 0, 773], [5, 1, 0, 0, 0, 1, 1, 0, 0, 1, 1, 0, 1, 770], [6, 1, 0, 0, 0, 1, 1, 0, 1, 0, 0, 0, 0, 760], [7, 1, 0, 0, 0, 1, 1, 0, 1, 0, 1, 1, 0, 808], [8, 1, 0, 0, 0, 1, 1, 0, 1, 0, 1, 0, 1, 795], [9, 1, 0, 0, 0, 1, 1, 0, 1, 1, 0, 0, 0, 760], [10, 1, 0, 0, 0, 1, 1, 0, 1, 1, 1, 1, 0, 808], [11, 1, 0, 0, 0, 1, 1, 0, 1, 1, 1, 0, 1, 795], [12, 1, 0, 0, 0, 1, 0, 1, 0, 0, 0, 0, 0, 570], [13, 1, 0, 0, 0, 1, 0, 1, 0, 0, 1, 1, 0, 615], [14, 1, 0, 0, 0, 1, 0, 1, 0, 0, 1, 0, 1, 610], [15, 1, 0, 0, 0, 1, 0, 1, 0, 1, 0, 0, 0, 570], [16, 1, 0, 0, 0, 1, 0, 1, 0, 1, 1, 1, 0, 615], [17, 1, 0, 0, 0, 1, 0, 1, 0, 1, 1, 0, 1, 610], [18, 1, 0, 0, 0, 1, 0, 1, 1, 0, 0, 0, 0, 580], [19, 1, 0, 0, 0, 1, 0, 1, 1, 0, 1, 1, 0, 650], [20, 1, 0, 0, 0, 1, 0, 1, 1, 0, 1, 0, 1, 635], [21, 1, 0, 0, 0, 1, 0, 1, 1, 1, 0, 0, 0, 580], [22, 1, 0, 0, 0, 1, 0, 1, 1, 1, 1, 1, 0, 650], [23, 1, 0, 0, 0, 1, 0, 1, 1, 1, 1, 0, 1, 635], [24, 1, 1, 1, 0, 1, 1, 0, 0, 0, 0, 0, 0, 1480], [25, 1, 1, 1, 0, 1, 1, 0, 0, 0, 1, 1, 0, 1503], [26, 1, 1, 1, 0, 1, 1, 0, 0, 0, 1, 0, 1, 1500], [27, 1, 1, 1, 0, 1, 1, 0, 0, 1, 0, 0, 0, 1480], [28, 1, 1, 1, 0, 1, 1, 0, 0, 1, 1, 1, 0, 1503], [29, 1, 1, 1, 0, 1, 1, 0, 0, 1, 1, 0, 1, 1500], [30, 1, 1, 1, 0, 1, 1, 0, 1, 0, 0, 0, 0, 1490], [31, 1, 1, 1, 0, 1, 1, 0, 1, 0, 1, 1, 0, 1538], [32, 1, 1, 1, 0, 1, 1, 0, 1, 0, 1, 0, 1, 1525], [33, 1, 1, 1, 0, 1, 1, 0, 1, 1, 0, 0, 0, 1490], [34, 1, 1, 1, 0, 1, 1, 0, 1, 1, 1, 1, 0, 1538], [35, 1, 1, 1, 0, 1, 1, 0, 1, 1, 1, 0, 1, 1525], [36, 1, 1, 1, 0, 1, 0, 1, 0, 0, 0, 0, 0, 1270], [37, 1, 1, 1, 0, 1, 0, 1, 0, 0, 1, 1, 0, 1315], [38, 1, 1, 1, 0, 1, 0, 1, 0, 0, 1, 0, 1, 1310], [39, 1, 1, 1, 0, 1, 0, 1, 0, 1, 0, 0, 0, 1270], [40, 1, 1, 1, 0, 1, 0, 1, 0, 1, 1, 1, 0, 1315], [41, 1, 1, 1, 0, 1, 0, 1, 0, 1, 1, 0, 1, 1310], [42, 1, 1, 1, 0, 1, 0, 1, 1, 0, 0, 0, 0, 1280], [43, 1, 1, 1, 0, 1, 0, 1, 1, 0, 1, 1, 0, 1350], [44, 1, 1, 1, 0, 1, 0, 1, 1, 0, 1, 0, 1, 1335], [45, 1, 1, 1, 0, 1, 0, 1, 1, 1, 0, 0, 0, 1280], [46, 1, 1, 1, 0, 1, 0, 1, 1, 1, 1, 1, 0, 1350], [47, 1, 1, 1, 0, 1, 0, 1, 1, 1, 1, 0, 1, 1335], [48, 1, 1, 0, 1, 1, 1, 0, 0, 0, 0, 0, 0, 950], [49, 1, 1, 0, 1, 1, 1, 0, 0, 0, 1, 1, 0, 973], [50, 1, 1, 0, 1, 1, 1, 0, 0, 0, 1, 0, 1, 970], [51, 1, 1, 0, 1, 1, 1, 0, 0, 1, 0, 0, 0, 950], [52, 1, 1, 0, 1, 1, 1, 0, 0, 1, 1, 1, 0, 973], [53, 1, 1, 0, 1, 1, 1, 0, 0, 1, 1, 0, 1, 970], [54, 1, 1, 0, 1, 1, 1, 0, 1, 0, 0, 0, 0, 960], [55, 1, 1, 0, 1, 1, 1, 0, 1, 0, 1, 1, 0, 1008], [56, 1, 1, 0, 1, 1, 1, 0, 1, 0, 1, 0, 1, 995], [57, 1, 1, 0, 1, 1, 1, 0, 1, 1, 0, 0, 0, 960], [58, 1, 1, 0, 1, 1, 1, 0, 1, 1, 1, 1, 0, 1008], [59, 1, 1, 0, 1, 1, 1, 0, 1, 1, 1, 0, 1, 995], [60, 1, 1, 0, 1, 1, 0, 1, 0, 0, 0, 0, 0, 770], [61, 1, 1, 0, 1, 1, 0, 1, 0, 0, 1, 1, 0, 815], [62, 1, 1, 0, 1, 1, 0, 1, 0, 0, 1, 0, 1, 810], [63, 1, 1, 0, 1, 1, 0, 1, 0, 1, 0, 0, 0, 770], [64, 1, 1, 0, 1, 1, 0, 1, 0, 1, 1, 1, 0, 815], [65, 1, 1, 0, 1, 1, 0, 1, 0, 1, 1, 0, 1, 810], [66, 1, 1, 0, 1, 1, 0, 1, 1, 0, 0, 0, 0, 780], [67, 1, 1, 0, 1, 1, 0, 1, 1, 0, 1, 1, 0, 850], [68, 1, 1, 0, 1, 1, 0, 1, 1, 0, 1, 0, 1, 835], [69, 1, 1, 0, 1, 1, 0, 1, 1, 1, 0, 0, 0, 780], [70, 1, 1, 0, 1, 1, 0, 1, 1, 1, 1, 1, 0, 850], [71, 1, 1, 0, 1, 1, 0, 1, 1, 1, 1, 0, 1, 835]]\n"
          ]
        }
      ]
    },
    {
      "cell_type": "code",
      "source": [
        "def computeGivenFeature(f_idx, status, configuration):\n",
        "  numbers = []\n",
        "  sample = []\n",
        "  sub_sample = []\n",
        "  mean = 0\n",
        "  error = 0\n",
        "  for config in configuration:\n",
        "    for feat in range(13):\n",
        "      if feat == f_idx and config[feat] == status:\n",
        "        sub_sample.append(config)\n",
        "        sample.append(config[13])\n",
        "\n",
        "  if len(sample) != 0:\n",
        "    mean = sum(sample) / len(sample)\n",
        "    for x in sample:\n",
        "      error = error + (x - mean)**2\n",
        "  else:\n",
        "    print(\"No configuration\")\n",
        "  \n",
        "  return mean, error, sample, sub_sample"
      ],
      "metadata": {
        "id": "QKD_5wPyyiI9"
      },
      "execution_count": 5,
      "outputs": []
    },
    {
      "cell_type": "code",
      "source": [
        "##BRANCH XL\n",
        "#Level 1\n",
        "f_idx1 = 3\n",
        "status1= 1\n",
        "m1,e1,p1,s1 = computeGivenFeature(f_idx1, status1, configuration)\n",
        "\n",
        "#Level 2\n",
        "f_idx2 = 6\n",
        "status2= 1\n",
        "m2,e2,p2,s2 = computeGivenFeature(f_idx2, status2, s1)\n",
        "\n",
        "#Level 3\n",
        "f_idx3 = 10\n",
        "status3= 1\n",
        "m3,e3,p3,s3 = computeGivenFeature(f_idx3, status3, s2)\n",
        "\n",
        "#Level 4\n",
        "f_idx4 = 8\n",
        "status4= 1\n",
        "m4,e4,p4,s4 = computeGivenFeature(f_idx4, status4, s3)\n",
        "\n",
        "#Level 5\n",
        "f_idx5 = 11\n",
        "status5= 1\n",
        "m5,e5,p5,s5 = computeGivenFeature(f_idx5, status5, s4)\n",
        "\n",
        "#Level 6\n",
        "f_idx6 = 12\n",
        "status6= 0\n",
        "m6,e6,p6,s6 = computeGivenFeature(f_idx6, status6, s5)\n",
        "\n",
        "print(s6)\n",
        "print(p6)\n",
        "print(len(p6))\n",
        "print(\"mean: \", m6)\n",
        "print(\"error: \", e6)"
      ],
      "metadata": {
        "colab": {
          "base_uri": "https://localhost:8080/"
        },
        "id": "iQW87cO2A7MT",
        "outputId": "870c5d6e-fe3d-4754-a158-b024b79446fe"
      },
      "execution_count": 146,
      "outputs": [
        {
          "output_type": "stream",
          "name": "stdout",
          "text": [
            "[[31, 1, 1, 1, 0, 1, 1, 0, 1, 0, 1, 1, 0, 1538], [34, 1, 1, 1, 0, 1, 1, 0, 1, 1, 1, 1, 0, 1538]]\n",
            "[1538, 1538]\n",
            "2\n",
            "mean:  1538.0\n",
            "error:  0.0\n"
          ]
        }
      ]
    },
    {
      "cell_type": "code",
      "source": [
        "## BRANCH XR\n",
        "#Level 1\n",
        "f_idx1 = 3\n",
        "status1= 0\n",
        "m1,e1,p1,s1 = computeGivenFeature(f_idx1, status1, configuration)\n",
        "\n",
        "#Level 2\n",
        "f_idx2 = 2\n",
        "status2= 1\n",
        "m2,e2,p2,s2 = computeGivenFeature(f_idx2, status2, s1)\n",
        "\n",
        "#Level 3\n",
        "f_idx3 = 6\n",
        "status3= 1\n",
        "m3,e3,p3,s3 = computeGivenFeature(f_idx3, status3, s2)\n",
        "\n",
        "#Level 4\n",
        "f_idx4 = 10\n",
        "status4= 1\n",
        "m4,e4,p4,s4 = computeGivenFeature(f_idx4, status4, s3)\n",
        "\n",
        "#Level 5\n",
        "f_idx5 = 8\n",
        "status5= 1\n",
        "m5,e5,p5,s5 = computeGivenFeature(f_idx5, status5, s4)\n",
        "\n",
        "#Level 6\n",
        "f_idx6 = 11\n",
        "status6= 1\n",
        "m6,e6,p6,s6 = computeGivenFeature(f_idx6, status6, s5)\n",
        "\n",
        "print(s6)\n",
        "print(p6)\n",
        "print(len(p6))\n",
        "print(\"mean: \", m6)\n",
        "print(\"error: \", e6)"
      ],
      "metadata": {
        "colab": {
          "base_uri": "https://localhost:8080/"
        },
        "id": "0ixHuacS-oVw",
        "outputId": "b252bd7d-619b-487d-b669-ff7316a0c8f5"
      },
      "execution_count": 237,
      "outputs": [
        {
          "output_type": "stream",
          "name": "stdout",
          "text": [
            "[[55, 1, 1, 0, 1, 1, 1, 0, 1, 0, 1, 1, 0, 1008], [58, 1, 1, 0, 1, 1, 1, 0, 1, 1, 1, 1, 0, 1008]]\n",
            "[1008, 1008]\n",
            "2\n",
            "mean:  1008.0\n",
            "error:  0.0\n"
          ]
        }
      ]
    }
  ]
}