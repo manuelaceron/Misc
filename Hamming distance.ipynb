{
  "nbformat": 4,
  "nbformat_minor": 0,
  "metadata": {
    "colab": {
      "name": "Untitled12.ipynb",
      "provenance": [],
      "collapsed_sections": []
    },
    "kernelspec": {
      "name": "python3",
      "display_name": "Python 3"
    },
    "language_info": {
      "name": "python"
    }
  },
  "cells": [
    {
      "cell_type": "code",
      "source": [
        "import csv"
      ],
      "metadata": {
        "id": "V-LgDPU1dBRv"
      },
      "execution_count": 125,
      "outputs": []
    },
    {
      "cell_type": "code",
      "source": [
        "def hamming(str1, str2):\n",
        "\tif  len(str1) != len(str2):\n",
        "\t\tprint(\"Strings differ is size\")\n",
        "\t\treturn 0\n",
        "\ta = int(str1, 2)\n",
        "\tb = int(str2, 2) \n",
        "\tcount= 0\n",
        "\tc = a ^ b\n",
        "\twhile c:\n",
        "        \tcount += 1\n",
        "        \tc &= c - 1 \n",
        "\treturn count"
      ],
      "metadata": {
        "id": "W2vobPuaABOL"
      },
      "execution_count": 126,
      "outputs": []
    },
    {
      "cell_type": "code",
      "source": [
        "# Read csv file\n",
        "file = open(\"/content/Assignment_4_Performance_Measurements.csv\")\n",
        "csvreader = csv.reader(file)\n",
        "header = next(csvreader)\n",
        "#print(header)\n",
        "rows = []\n",
        "numbers = []\n",
        "for row in csvreader:\n",
        "    rows.append(row)\n",
        "file.close()"
      ],
      "metadata": {
        "id": "xkWEyh2zDr7z"
      },
      "execution_count": 127,
      "outputs": []
    },
    {
      "cell_type": "code",
      "source": [
        "# Get configuration\n",
        "numbers = []\n",
        "for num in rows:\n",
        "  txt = \"\"\n",
        "  c = 0\n",
        "  for x in num:\n",
        "    c = c +1\n",
        "    if c != 1 and c != 14:\n",
        "      str(x)\n",
        "      txt = txt + x\n",
        "  numbers.append(txt) "
      ],
      "metadata": {
        "id": "ku7z9Z1JEYZk"
      },
      "execution_count": 128,
      "outputs": []
    },
    {
      "cell_type": "code",
      "source": [
        "# Calculate distances and samples\n",
        "distance1 = []\n",
        "distance2 = []\n",
        "\n",
        "for x in range(len(numbers)):\n",
        "  d1= hamming(numbers[0],numbers[x])\n",
        "  distance1.append(d1)\n",
        "\n",
        "  d2= hamming(numbers[12],numbers[x])\n",
        "  distance2.append(d2)\n",
        "\n",
        "#print(distance1)\n",
        "#print(distance2)"
      ],
      "metadata": {
        "id": "spITKP8NK1Pz"
      },
      "execution_count": 130,
      "outputs": []
    },
    {
      "cell_type": "code",
      "source": [
        "# Calculate samples\n",
        "sample1 = []\n",
        "sample2 = []\n",
        "n = 2\n",
        "\n",
        "for x in range(len(numbers)):\n",
        "  if (distance1[x]==n):\n",
        "    sample1.append(x)\n",
        "  if (distance2[x]==n):\n",
        "    sample2.append(x)  \n",
        "print(\"Origin 1: \", sample1)\n",
        "print(\"Origin 2: \",sample2)"
      ],
      "metadata": {
        "colab": {
          "base_uri": "https://localhost:8080/"
        },
        "id": "AgdniRkPdkvg",
        "outputId": "fb4bd8a2-65a4-4ae1-93a0-cf3224071834"
      },
      "execution_count": 132,
      "outputs": [
        {
          "output_type": "stream",
          "name": "stdout",
          "text": [
            "Origin 1:  [1, 2, 9, 12, 24, 48]\n",
            "Origin 2:  [0, 13, 14, 21, 36, 60]\n"
          ]
        }
      ]
    }
  ]
}